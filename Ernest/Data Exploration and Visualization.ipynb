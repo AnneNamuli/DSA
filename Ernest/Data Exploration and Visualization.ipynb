{
 "cells": [
  {
   "cell_type": "code",
   "execution_count": 9,
   "metadata": {
    "collapsed": false
   },
   "outputs": [],
   "source": [
    "%matplotlib inline\n",
    "import matplotlib.pyplot as plt\n",
    "import pandas as pd\n",
    "import numpy as np\n",
    "from generatedatah import *\n",
    "# import seaborn as sns\n",
    "# sns.set(color_codes=True)"
   ]
  },
  {
   "cell_type": "markdown",
   "metadata": {},
   "source": [
    "# Data Cleaning"
   ]
  },
  {
   "cell_type": "markdown",
   "metadata": {},
   "source": [
    "We will look at cleaning sample data from hospital records that show records of child birth that were entered onto sheets of paper and transcribed into an electronic system by interns. The data is a bit messy and hard to analyse as it is. \n",
    "\n",
    "Note that this is simulated data. We also tie the data to your birthday so please enter your birthday to generate your unique set."
   ]
  },
  {
   "cell_type": "code",
   "execution_count": 10,
   "metadata": {
    "collapsed": false
   },
   "outputs": [],
   "source": [
    "# Generate the data\n",
    "random_seed =  286\n",
    "Gender, Weights, Heights, Birthdays, ChildCondition = generate_birth_data(random_seed)"
   ]
  },
  {
   "cell_type": "code",
   "execution_count": 12,
   "metadata": {
    "collapsed": false
   },
   "outputs": [
    {
     "name": "stdout",
     "output_type": "stream",
     "text": [
      "8388 8388 8388 8388 8388\n"
     ]
    }
   ],
   "source": [
    "print (len(Gender), len(Weights), len(Heights), len(Birthdays), len(ChildCondition))"
   ]
  },
  {
   "cell_type": "markdown",
   "metadata": {},
   "source": [
    "### Clean Gender data"
   ]
  },
  {
   "cell_type": "markdown",
   "metadata": {},
   "source": [
    "The attribute Gender has different variations of the words 'girl' and 'boy'. Your role is to write a function that takes in the attribute data Gender and returns cleaned words. The attribute Gender should only have words consisting of ['girl','boy']."
   ]
  },
  {
   "cell_type": "code",
   "execution_count": 21,
   "metadata": {
    "collapsed": false
   },
   "outputs": [],
   "source": [
    "def convert_to_dataframe(Gender, Weights, Heights, Birthdays, ChildCondition):\n",
    "    # Generate a dataframe from the attributes. \n",
    "    # Function should return a dataframe\n",
    "    # HINT: Look through the documentation on how to create pandas dataframes\n",
    "    # TODO: WRITE YOUR CODE HERE\n",
    "    BirthDict = {'Gender': Gender, 'Weight':Weights, 'Height': Heights, 'Birthdays': Birthdays, 'ChildCondition':ChildCondition }\n",
    "    birthData = pd.DataFrame(BirthDict)\n",
    "    return birthData"
   ]
  },
  {
   "cell_type": "markdown",
   "metadata": {},
   "source": [
    "***Checking out your data***\n",
    "After loading a dataset it is always good to check it out using techniques from the previous lecture. Common tools are ```describe(), shape, unique()```\n",
    "\n",
    "For our dataset, run the function to ensure you are loading the data correctly and run the three functions above.\n",
    "<font color='red'>Questions</font>\n",
    "1. >How many records are in the dataset ? Answer = \n",
    "2. >What is the mean age and mean height ? Answer = \n",
    "3. >Using unique on each column, which columns need *cleaning* ? Answer = "
   ]
  },
  {
   "cell_type": "code",
   "execution_count": 22,
   "metadata": {
    "collapsed": false
   },
   "outputs": [
    {
     "data": {
      "text/html": [
       "<div>\n",
       "<table border=\"1\" class=\"dataframe\">\n",
       "  <thead>\n",
       "    <tr style=\"text-align: right;\">\n",
       "      <th></th>\n",
       "      <th>Birthdays</th>\n",
       "      <th>ChildCondition</th>\n",
       "      <th>Gender</th>\n",
       "      <th>Height</th>\n",
       "      <th>Weight</th>\n",
       "    </tr>\n",
       "  </thead>\n",
       "  <tbody>\n",
       "    <tr>\n",
       "      <th>0</th>\n",
       "      <td>2002-07-20</td>\n",
       "      <td>Weak, Tall, Hairy</td>\n",
       "      <td>Girl</td>\n",
       "      <td>39</td>\n",
       "      <td>78.0</td>\n",
       "    </tr>\n",
       "    <tr>\n",
       "      <th>1</th>\n",
       "      <td>2002-03-07</td>\n",
       "      <td>Healthy, Tall</td>\n",
       "      <td>boy</td>\n",
       "      <td>44</td>\n",
       "      <td>78.0</td>\n",
       "    </tr>\n",
       "    <tr>\n",
       "      <th>2</th>\n",
       "      <td>2002-01-09</td>\n",
       "      <td>Healthy, Tall</td>\n",
       "      <td>Girl</td>\n",
       "      <td>56</td>\n",
       "      <td>2.5</td>\n",
       "    </tr>\n",
       "    <tr>\n",
       "      <th>3</th>\n",
       "      <td>2002-03-14</td>\n",
       "      <td>Weak, Tall, Hairy</td>\n",
       "      <td>gir</td>\n",
       "      <td>47</td>\n",
       "      <td>2.4</td>\n",
       "    </tr>\n",
       "    <tr>\n",
       "      <th>4</th>\n",
       "      <td>2003-05-12</td>\n",
       "      <td>Weak, Healthy</td>\n",
       "      <td>gril</td>\n",
       "      <td>41</td>\n",
       "      <td>0.3</td>\n",
       "    </tr>\n",
       "  </tbody>\n",
       "</table>\n",
       "</div>"
      ],
      "text/plain": [
       "   Birthdays     ChildCondition Gender  Height  Weight\n",
       "0 2002-07-20  Weak, Tall, Hairy   Girl      39    78.0\n",
       "1 2002-03-07      Healthy, Tall    boy      44    78.0\n",
       "2 2002-01-09      Healthy, Tall   Girl      56     2.5\n",
       "3 2002-03-14  Weak, Tall, Hairy    gir      47     2.4\n",
       "4 2003-05-12      Weak, Healthy   gril      41     0.3"
      ]
     },
     "execution_count": 22,
     "metadata": {},
     "output_type": "execute_result"
    }
   ],
   "source": [
    "# Run your function to create the dataset\n",
    "birthData = convert_to_dataframe(Gender, Weights, Heights, Birthdays, ChildCondition)\n",
    "birthData.head()"
   ]
  },
  {
   "cell_type": "code",
   "execution_count": null,
   "metadata": {
    "collapsed": true
   },
   "outputs": [],
   "source": [
    "# Run shape, describe on the dataset\n"
   ]
  },
  {
   "cell_type": "code",
   "execution_count": null,
   "metadata": {
    "collapsed": true
   },
   "outputs": [],
   "source": [
    "# Run unique on each column and see which columns need fixing\n"
   ]
  },
  {
   "cell_type": "code",
   "execution_count": null,
   "metadata": {
    "collapsed": true
   },
   "outputs": [],
   "source": [
    "# OK lets clean out the Gender column\n",
    "def remove_invalid_strings(birthData):\n",
    "    # Remove all rows with empty Gender inputs i.e those with \"\"\n",
    "    # Alternatively select all rows of the dataset where the Gender inputs are not \"\"\n",
    "    return birthData"
   ]
  },
  {
   "cell_type": "markdown",
   "metadata": {},
   "source": [
    "<font color='red'>Questions</font>\n",
    "1. >From analysing the new dataset using shape or some other command, how many bad rows were removed ? Answer = "
   ]
  },
  {
   "cell_type": "code",
   "execution_count": null,
   "metadata": {
    "collapsed": true
   },
   "outputs": [],
   "source": [
    "# Test your cleaned out Gender column\n",
    "birthData = remove_invalid_strings(birthData)\n",
    "print birthData.shape\n",
    "print birthData['Gender'].unique()"
   ]
  },
  {
   "cell_type": "code",
   "execution_count": null,
   "metadata": {
    "collapsed": true
   },
   "outputs": [],
   "source": [
    "# The Weights of the kids look weird ! A Kid of 0.5 Kgs ?, Kid of 110 Kgs ? Perhaps we need to clean out this data\n",
    "\n",
    "# What are the min and max weights in the data ?"
   ]
  },
  {
   "cell_type": "code",
   "execution_count": null,
   "metadata": {
    "collapsed": true
   },
   "outputs": [],
   "source": [
    "# Complete these functions to clean the data\n",
    "def remove_invalid_lowweights(birthData):\n",
    "    # Remove rows where weights are below 1.5\n",
    "    # TODO: WRITE YOUR CODE HERE\n",
    "    return birthData\n",
    "\n",
    "def remove_invalid_highweights(birthData):\n",
    "    # Remove rows where weights are above 4.5\n",
    "    # TODO: WRITE YOUR CODE HERE\n",
    "    return birthData"
   ]
  },
  {
   "cell_type": "code",
   "execution_count": null,
   "metadata": {
    "collapsed": true
   },
   "outputs": [],
   "source": [
    "# Test that the functions work\n",
    "birthData = remove_invalid_lowweights(birthData)\n",
    "birthData = remove_invalid_highweights(birthData)\n",
    "\n",
    "# Get max and min weights\n"
   ]
  },
  {
   "cell_type": "markdown",
   "metadata": {},
   "source": [
    "<font color='red'>Questions</font>\n",
    "1. >What are the new min and max weights ? Answer = "
   ]
  },
  {
   "cell_type": "code",
   "execution_count": null,
   "metadata": {
    "collapsed": false
   },
   "outputs": [],
   "source": [
    "\n",
    "def clean_gender_attribute(birthData):\n",
    "    # Clean up the gender attribute to remain with gender in ['girl','boy']\n",
    "    # Plan for execution\n",
    "    # 1. Convert all the genders to lowercase\n",
    "    # 2. Look up the 'apply' function for Pandas and see how to use it to replace the dodgy data to correct data\n",
    "    # TODO: WRITE YOUR CODE HERE\n",
    " \n",
    "    return birthData\n"
   ]
  },
  {
   "cell_type": "code",
   "execution_count": null,
   "metadata": {
    "collapsed": true
   },
   "outputs": [],
   "source": [
    "# Check that your code works and there are only two genders\n",
    "birthData = clean_gender_attribute(birthData)\n",
    "assert len(birthData) = 2\n"
   ]
  },
  {
   "cell_type": "markdown",
   "metadata": {},
   "source": [
    "### Do basic analysis \n",
    "Now we do some basic analysis with our data. So perhaps the hospital wants to find out how many boys were born in a particular month, or year. What the average weights for girls were vs those for boys"
   ]
  },
  {
   "cell_type": "code",
   "execution_count": null,
   "metadata": {
    "collapsed": true
   },
   "outputs": [],
   "source": [
    "# Just to check - What is the size of the dataset you are using now ?\n",
    "birthData.shape"
   ]
  },
  {
   "cell_type": "code",
   "execution_count": null,
   "metadata": {
    "collapsed": true
   },
   "outputs": [],
   "source": [
    "# Calculate basic statistics for the hospital\n",
    "# HINT: It may help to generate different datasets for the different genders\n",
    "def num_of_girls_boys(birthData):\n",
    "    # Return number of boys and girls\n",
    "    # TODO: WRITE YOUR CODE HERE\n",
    "    return (num_boys, num_girls)\n",
    "\n",
    "def average_gender_weight(birthData):\n",
    "    # Return the average weight of the different genders\n",
    "    # TODO: WRITE YOUR CODE HERE\n",
    "    return (avg_weight_boys, avg_weight_girls)\n",
    "\n",
    "def average_gender_height(birthData):\n",
    "    # Return the average weight of the different genders\n",
    "    # TODO: WRITE YOUR CODE HERE\n",
    "    return (avg_height_boys, avg_height_girls)"
   ]
  },
  {
   "cell_type": "markdown",
   "metadata": {
    "collapsed": true
   },
   "source": [
    "### Dealing with text in data\n",
    "Some times you have to deal with text in the dataset. For example we have the condition of the children in this dataset which is textual information.\n",
    "\n",
    "Pandas provides for doing this kind of analysis with the ```str.contains()``` function that can be applied to a series of a column of a dataframe"
   ]
  },
  {
   "cell_type": "code",
   "execution_count": 70,
   "metadata": {
    "collapsed": false
   },
   "outputs": [
    {
     "name": "stdout",
     "output_type": "stream",
     "text": [
      "0    False\n",
      "1     True\n",
      "2    False\n",
      "dtype: bool\n"
     ]
    }
   ],
   "source": [
    "# Example\n",
    "b = ['Juma', 'Jane', 'Tobias']\n",
    "dexample = pd.Series(b)\n",
    "print dexample.str.contains('Jane')"
   ]
  },
  {
   "cell_type": "code",
   "execution_count": null,
   "metadata": {
    "collapsed": true
   },
   "outputs": [],
   "source": [
    "# Do some string manipulations on the data\n",
    "def num_healthy_kids(birthData):\n",
    "    # Return the number of healthy kids born \n",
    "    # Do this by filtering on the childs condition at birth\n",
    "    # TODO: WRITE YOUR CODE HERE\n",
    "    return num_kids\n",
    "\n",
    "def num_tall_kids(birthData):\n",
    "    # Return the number of tall kids born \n",
    "    # Do this by filtering on the childs condition at birth\n",
    "    # TODO: WRITE YOUR CODE HERE\n",
    "    return num_tall_kids\n",
    "\n",
    "def num_tall_height_kids(birthData):\n",
    "    # Return number of tall kids who also have a height of over 40 cm\n",
    "    # TODO: WRITE YOUR CODE HERE\n",
    "    return num_tall_kids"
   ]
  },
  {
   "cell_type": "markdown",
   "metadata": {},
   "source": [
    "<font color='red'>Questions</font>\n",
    "1. >How healthy kids are there at birth ? Answer = \n",
    "2. >Whats the number of tall kids at birth ? Answer = \n",
    "3. >Whats the number of tall kids with height > 40 cm ? Answer = "
   ]
  },
  {
   "cell_type": "markdown",
   "metadata": {},
   "source": [
    "# Visualization\n",
    "Visualization of data can be for various purposes. Commonly you want to use visualization for exploration of the data and presentation of the data. Here we will look at exploration. \n",
    "\n",
    "A key library to use is seaborn, but there are various others. Pandas offers quick ways of visualizing data in dataframes and Series. Underneath it uses matplotlib."
   ]
  },
  {
   "cell_type": "code",
   "execution_count": null,
   "metadata": {
    "collapsed": true
   },
   "outputs": [],
   "source": [
    "# Lets start by using matplotlib\n",
    "def plot_scatter(birthData):\n",
    "    # Plot a scatter plot of Height vs Weight\n",
    "    X = birthData['Height']\n",
    "    Y = birthData['Weight']\n",
    "    plt.figure()\n",
    "    plt.scatter(X,Y)\n",
    "    plt.title('BirthRate: Height vs Weight')\n",
    "    plt.xlabel('Height')\n",
    "    plt.ylabel('Weight')\n",
    "    return plt\n",
    "\n",
    "def plot_bar(birthData):\n",
    "    # Plot bar charts for the gender\n",
    "    X = birthData['Height']\n",
    "    Y = birthData['Weight']\n",
    "    plt.figure()\n",
    "    plt.bar(X,Y)\n",
    "    plt.title('Weight distribution relative to Height')\n",
    "    plt.xlabel('Height')\n",
    "    plt.ylabel('Weight')\n",
    "    return plt\n",
    "\n",
    "def plot_hist(birthData):\n",
    "    # plot histogram\n",
    "    X = birthData['Height']\n",
    "    plt.figure()\n",
    "    plt.hist(X)\n",
    "    plt.title('Height Distribution')\n",
    "    plt.xlabel('Height')\n",
    "    plt.ylabel('Frequency')\n",
    "    return plt"
   ]
  },
  {
   "cell_type": "code",
   "execution_count": null,
   "metadata": {
    "collapsed": false
   },
   "outputs": [],
   "source": [
    "plot_bar(birthData)"
   ]
  },
  {
   "cell_type": "code",
   "execution_count": null,
   "metadata": {
    "collapsed": false
   },
   "outputs": [],
   "source": [
    "plot_scatter(birthData)"
   ]
  },
  {
   "cell_type": "code",
   "execution_count": null,
   "metadata": {
    "collapsed": false
   },
   "outputs": [],
   "source": [
    "plot_hist(birthData)"
   ]
  },
  {
   "cell_type": "markdown",
   "metadata": {},
   "source": [
    "** Using seaborn transforms the plots to much better looking plots :-)**\n",
    "\n",
    ">Import seaborn and re-run the plots"
   ]
  },
  {
   "cell_type": "code",
   "execution_count": null,
   "metadata": {
    "collapsed": false
   },
   "outputs": [],
   "source": [
    "sns.jointplot(x='Height', y='Weight', data=birthData)"
   ]
  },
  {
   "cell_type": "markdown",
   "metadata": {},
   "source": [
    "## Plotting time-series data\n",
    "The index in a Pandas dataframe is a very useful thing to know about. You can convert the indices of a data frame using the index functions."
   ]
  },
  {
   "cell_type": "code",
   "execution_count": null,
   "metadata": {
    "collapsed": false
   },
   "outputs": [],
   "source": [
    "# Reset the index of the data\n",
    "birthData = birthData.set_index('BirthDays')\n",
    "birthData.head()"
   ]
  },
  {
   "cell_type": "code",
   "execution_count": null,
   "metadata": {
    "collapsed": false
   },
   "outputs": [],
   "source": [
    "# Plot time series\n",
    "#Use groupby to get a count of births per month\n",
    "\n",
    "d = birthData.reset_index()\n",
    "d.BirthDays.value_counts().plot()"
   ]
  },
  {
   "cell_type": "markdown",
   "metadata": {},
   "source": [
    "## <font color='red'>Questions</font>\n",
    "1. >Plot a timeseries of the number of boys born in the two year period\n",
    "2. >Plot the timeseries of number of girls born in 2003 \n",
    "3. >Plot a bar plot of the births per month"
   ]
  },
  {
   "cell_type": "code",
   "execution_count": null,
   "metadata": {
    "collapsed": false
   },
   "outputs": [],
   "source": [
    "# We can now generate data from various time intervals or periods \n",
    "# For example quantifying the births by years\n",
    "# Type birthData.index? to see all the possible options\n",
    "\n",
    "yd = birthData[birthData.index.year == 2002]\n",
    "yd.Weight.plot()"
   ]
  },
  {
   "cell_type": "markdown",
   "metadata": {},
   "source": [
    "## Statistical Rigor, Machine Learning \n",
    "Sometimes during analysis we want to determine how significant our inference are in the data. For this we tend to use statistical tests. \n",
    "\n",
    "Some questions one may try to answer are for example Is there a difference in the heights of boys and girls born throughout the period ?"
   ]
  },
  {
   "cell_type": "code",
   "execution_count": null,
   "metadata": {
    "collapsed": true
   },
   "outputs": [],
   "source": [
    "import scipy.stats\n",
    "# Assume normality\n",
    "def calculate_statistics(birthData):\n",
    "    # Assuming normality of the data, use a suitable test to calculate the test statistic using the \n",
    "    # two-sample t-test (Welch test)\n",
    "    # and the p-value associated with the statistic. \n",
    "    # TODO: WRITE YOUR CODE HERE\n",
    "    test_statistic, p_value = scipy.stats.ttest_ind(birthData.Height[birthData.Gender=='girl'], birthData.Marks[birthData.Gender=='boy'], equal_var=False)\n",
    "    \n",
    "    return test_statistic, p_value\n"
   ]
  },
  {
   "cell_type": "code",
   "execution_count": null,
   "metadata": {
    "collapsed": false
   },
   "outputs": [],
   "source": [
    "test_statistic, pvalue =  calculate_statistics(ageData)\n",
    "print test_statistic, pvalue"
   ]
  },
  {
   "cell_type": "code",
   "execution_count": null,
   "metadata": {
    "collapsed": true
   },
   "outputs": [],
   "source": [
    "# Not making the normality assumption for the birth data\n",
    "def calculate_statistics_nonnormal(ageData):\n",
    "    # Without assuming normality of the data, use a suitable test to calculate the test statistic\n",
    "    # and the p-value associated with the statistic. \n",
    "    # TODO: WRITE YOUR CODE HERE\n",
    "    test_statistic, p_value = scipy.stats.mannwhitneyu(birthData.Height[birthData.Gender=='girl'], birthData.Marks[birthData.Gender=='boy'])\n",
    "    \n",
    "    return test_statistic, p_value"
   ]
  },
  {
   "cell_type": "code",
   "execution_count": null,
   "metadata": {
    "collapsed": false
   },
   "outputs": [],
   "source": [
    "test_statistic, pvalue =  calculate_statistics_nonnormal(ageData)\n",
    "print test_statistic, pvalue"
   ]
  }
 ],
 "metadata": {
  "kernelspec": {
   "display_name": "Python 3",
   "language": "python",
   "name": "python3"
  },
  "language_info": {
   "codemirror_mode": {
    "name": "ipython",
    "version": 3
   },
   "file_extension": ".py",
   "mimetype": "text/x-python",
   "name": "python",
   "nbconvert_exporter": "python",
   "pygments_lexer": "ipython3",
   "version": "3.5.1"
  }
 },
 "nbformat": 4,
 "nbformat_minor": 0
}
